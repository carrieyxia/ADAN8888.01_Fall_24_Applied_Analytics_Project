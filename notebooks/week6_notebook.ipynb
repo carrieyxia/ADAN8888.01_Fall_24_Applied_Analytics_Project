{
 "cells": [
  {
   "cell_type": "markdown",
   "metadata": {},
   "source": [
    "# Week 6 Notebook: Model training, hyperparameter tuning, and model evaluation\n",
    "The goal of this week's assignment is to use one modeling method with 3 different hyperparameter settings of the method. "
   ]
  },
  {
   "cell_type": "markdown",
   "metadata": {},
   "source": [
    "### Import packages"
   ]
  },
  {
   "cell_type": "code",
   "execution_count": 1,
   "metadata": {},
   "outputs": [],
   "source": [
    "import pandas as pd\n",
    "import numpy as np\n",
    "import matplotlib.pyplot as plt\n",
    "import seaborn as sns\n",
    "import os\n",
    "from sklearn.preprocessing import PolynomialFeatures\n",
    "from sklearn.model_selection import GridSearchCV\n",
    "from sklearn.linear_model import LinearRegression, Lasso, Ridge\n",
    "from sklearn.metrics import r2_score, root_mean_squared_error\n",
    "from sklearn.model_selection import cross_val_score\n",
    "import pickle\n"
   ]
  },
  {
   "cell_type": "markdown",
   "metadata": {},
   "source": [
    "### Read data as dataframe"
   ]
  },
  {
   "cell_type": "code",
   "execution_count": 2,
   "metadata": {},
   "outputs": [],
   "source": [
    "current_dir = os.getcwd()\n",
    "parent_dir = os.path.dirname(current_dir)\n",
    "\n",
    "model_folder = os.path.join(parent_dir,\"models\")\n",
    "data_folder = os.path.join(parent_dir,\"data\")\n",
    "\n",
    "raw_data_folder = os.path.join(data_folder,\"raw\")\n",
    "interim_data_folder = os.path.join(data_folder,\"interim\")\n",
    "processed_data_folder = os.path.join(data_folder, \"processed\")"
   ]
  },
  {
   "cell_type": "code",
   "execution_count": 3,
   "metadata": {},
   "outputs": [],
   "source": [
    "# Paths for feature variables\n",
    "X_train_scaled_path = os.path.join(processed_data_folder, 'X_train_scaled.parquet')\n",
    "X_val_scaled_path = os.path.join(processed_data_folder, 'X_val_scaled.parquet')\n",
    "X_test_scaled_path = os.path.join(processed_data_folder, 'X_test_scaled.parquet')\n",
    "\n",
    "train_pca_path = os.path.join(processed_data_folder, 'X_train_pca.parquet')\n",
    "val_pca_path = os.path.join(processed_data_folder, 'X_val_pca.parquet')\n",
    "test_pca_path = os.path.join(processed_data_folder, 'X_test_pca.parquet')\n",
    "\n",
    "# Paths for the target variables\n",
    "y_train_path = os.path.join(processed_data_folder, 'y_train.parquet')\n",
    "y_val_path = os.path.join(processed_data_folder, 'y_val.parquet')\n",
    "y_test_path = os.path.join(processed_data_folder, 'y_test.parquet')\n",
    "\n",
    "# Paths for models\n",
    "ols_path = os.path.join(model_folder, 'ols_model.pkl')\n",
    "ols_pca_path = os.path.join(model_folder, 'ols_pca_model.pkl')\n",
    "l1_path = os.path.join(model_folder, 'l1_model.pkl')\n",
    "l2_path = os.path.join(model_folder, 'l2_model.pkl')\n",
    "poly_path = os.path.join(model_folder, 'poly.pkl')\n",
    "poly_l2_path = os.path.join(model_folder, 'poly_l2.pkl')"
   ]
  },
  {
   "cell_type": "code",
   "execution_count": 4,
   "metadata": {},
   "outputs": [],
   "source": [
    "X_train_scaled = pd.read_parquet(X_train_scaled_path)\n",
    "X_val_scaled = pd.read_parquet(X_val_scaled_path)\n",
    "X_test_scaled = pd.read_parquet(X_test_scaled_path)\n",
    "\n",
    "# Reading the target variables\n",
    "y_train = pd.read_parquet(y_train_path)\n",
    "y_val = pd.read_parquet(y_val_path)\n",
    "y_test = pd.read_parquet(y_test_path)\n",
    "\n",
    "X_train_pca = pd.read_parquet(train_pca_path)\n",
    "X_val_pca = pd.read_parquet(val_pca_path)\n",
    "X_test_pca = pd.read_parquet(test_pca_path)"
   ]
  },
  {
   "cell_type": "markdown",
   "metadata": {},
   "source": [
    "### Linear Regression"
   ]
  },
  {
   "cell_type": "code",
   "execution_count": 5,
   "metadata": {},
   "outputs": [],
   "source": [
    "def evaluate_model(y_true, y_pred):\n",
    "\n",
    "    rmse = root_mean_squared_error(y_true, y_pred)\n",
    "    mse = rmse**2\n",
    "    r2 = r2_score(y_true, y_pred)\n",
    "    return mse, rmse, r2"
   ]
  },
  {
   "cell_type": "code",
   "execution_count": 6,
   "metadata": {},
   "outputs": [
    {
     "name": "stdout",
     "output_type": "stream",
     "text": [
      "OLS Regression Model - Training Metrics:\n",
      "MSE: 6871.8208, RMSE: 82.8964, R²: 0.2142\n",
      "\n",
      "OLS Regression Model - Validation Metrics:\n",
      "MSE: 21394240912271155107201024.0000, RMSE: 4625390892916.0957, R²: -2016837618886815514624.0000\n"
     ]
    }
   ],
   "source": [
    "ols = LinearRegression()\n",
    "\n",
    "ols.fit(X_train_scaled, y_train)\n",
    "ols_predictions = ols.predict(X_test_scaled)\n",
    "\n",
    "\n",
    "ols_train_predictions = ols.predict(X_train_scaled)\n",
    "ols_predictions = ols.predict(X_test_scaled)\n",
    "\n",
    "ols_train_mse, ols_train_rmse, ols_train_r2 = evaluate_model(y_train, ols_train_predictions)\n",
    "ols_mse, ols_rmse, ols_r2 = evaluate_model(y_test, ols_predictions)\n",
    "\n",
    "# Print the metrics for training and validation sets\n",
    "print(\"OLS Regression Model - Training Metrics:\")\n",
    "print(f\"MSE: {ols_train_mse:.4f}, RMSE: {ols_train_rmse:.4f}, R²: {ols_train_r2:.4f}\")\n",
    "\n",
    "print(\"\\nOLS Regression Model - Validation Metrics:\")\n",
    "print(f\"MSE: {ols_mse:.4f}, RMSE: {ols_rmse:.4f}, R²: {ols_r2:.4f}\")\n"
   ]
  },
  {
   "cell_type": "code",
   "execution_count": 7,
   "metadata": {},
   "outputs": [
    {
     "name": "stdout",
     "output_type": "stream",
     "text": [
      "Model saved under /Users/carriexia/Documents/GitHub/ADAN8888.01_Fall_24_Applied_Analytics_Project/models/ols_model.pkl\n"
     ]
    }
   ],
   "source": [
    "# Saving the model\n",
    "with open(ols_path, 'wb') as file:\n",
    "    pickle.dump(ols, file)\n",
    "\n",
    "print(\"Model saved under\", ols_path)"
   ]
  },
  {
   "cell_type": "code",
   "execution_count": 8,
   "metadata": {},
   "outputs": [
    {
     "name": "stdout",
     "output_type": "stream",
     "text": [
      "OLS PCA Regression Model - Training Metrics:\n",
      "MSE: 6874.0809, RMSE: 82.9101, R²: 0.2139\n",
      "\n",
      "OLS PCA Regression Model - Validation Metrics:\n",
      "MSE: 8011.1409, RMSE: 89.5050, R²: 0.2448\n"
     ]
    }
   ],
   "source": [
    "ols_pca = LinearRegression()\n",
    "\n",
    "ols_pca.fit(X_train_pca, y_train)\n",
    "ols_pca_train_predictions = ols_pca.predict(X_train_pca)\n",
    "ols_pca_predictions = ols_pca.predict(X_test_pca)\n",
    "\n",
    "ols_pca_train_mse, ols_pca_train_rmse, ols_pca_train_r2 = evaluate_model(y_train, ols_pca_train_predictions)\n",
    "ols_pca_mse, ols_pca_rmse, ols_pca_r2 = evaluate_model(y_test, ols_pca_predictions)\n",
    "\n",
    "\n",
    "print(\"OLS PCA Regression Model - Training Metrics:\")\n",
    "print(f\"MSE: {ols_pca_train_mse:.4f}, RMSE: {ols_pca_train_rmse:.4f}, R²: {ols_pca_train_r2:.4f}\")\n",
    "\n",
    "print(\"\\nOLS PCA Regression Model - Validation Metrics:\")\n",
    "print(f\"MSE: {ols_pca_mse:.4f}, RMSE: {ols_pca_rmse:.4f}, R²: {ols_pca_r2:.4f}\")\n"
   ]
  },
  {
   "cell_type": "code",
   "execution_count": 9,
   "metadata": {},
   "outputs": [
    {
     "name": "stdout",
     "output_type": "stream",
     "text": [
      "Model saved under /Users/carriexia/Documents/GitHub/ADAN8888.01_Fall_24_Applied_Analytics_Project/models/ols_pca_model.pkl\n"
     ]
    }
   ],
   "source": [
    "# Saving the model\n",
    "with open(ols_pca_path, 'wb') as file:\n",
    "    pickle.dump(ols_pca, file)\n",
    "\n",
    "print(\"Model saved under\", ols_pca_path)"
   ]
  },
  {
   "cell_type": "markdown",
   "metadata": {},
   "source": [
    "### Regularization\n",
    "#### L1\n",
    "Lasso is harder to converge, and it takes very long for lasso to cross validation and grid search. Therefore, the following cell takes very long to run and a lot of values of alpha fails to converge with limited iterations."
   ]
  },
  {
   "cell_type": "code",
   "execution_count": 10,
   "metadata": {},
   "outputs": [
    {
     "name": "stderr",
     "output_type": "stream",
     "text": [
      "/Applications/anaconda3/lib/python3.11/site-packages/sklearn/linear_model/_coordinate_descent.py:697: ConvergenceWarning: Objective did not converge. You might want to increase the number of iterations, check the scale of the features or consider increasing regularisation. Duality gap: 1.390e+08, tolerance: 4.896e+04\n",
      "  model = cd_fast.enet_coordinate_descent(\n",
      "/Applications/anaconda3/lib/python3.11/site-packages/sklearn/linear_model/_coordinate_descent.py:697: ConvergenceWarning: Objective did not converge. You might want to increase the number of iterations, check the scale of the features or consider increasing regularisation. Duality gap: 1.600e+08, tolerance: 4.862e+04\n",
      "  model = cd_fast.enet_coordinate_descent(\n",
      "/Applications/anaconda3/lib/python3.11/site-packages/sklearn/linear_model/_coordinate_descent.py:697: ConvergenceWarning: Objective did not converge. You might want to increase the number of iterations, check the scale of the features or consider increasing regularisation. Duality gap: 1.505e+08, tolerance: 4.971e+04\n",
      "  model = cd_fast.enet_coordinate_descent(\n",
      "/Applications/anaconda3/lib/python3.11/site-packages/sklearn/linear_model/_coordinate_descent.py:697: ConvergenceWarning: Objective did not converge. You might want to increase the number of iterations, check the scale of the features or consider increasing regularisation. Duality gap: 1.588e+08, tolerance: 5.004e+04\n",
      "  model = cd_fast.enet_coordinate_descent(\n",
      "/Applications/anaconda3/lib/python3.11/site-packages/sklearn/linear_model/_coordinate_descent.py:697: ConvergenceWarning: Objective did not converge. You might want to increase the number of iterations, check the scale of the features or consider increasing regularisation. Duality gap: 1.412e+08, tolerance: 4.753e+04\n",
      "  model = cd_fast.enet_coordinate_descent(\n",
      "/Applications/anaconda3/lib/python3.11/site-packages/sklearn/linear_model/_coordinate_descent.py:697: ConvergenceWarning: Objective did not converge. You might want to increase the number of iterations, check the scale of the features or consider increasing regularisation. Duality gap: 5.515e+05, tolerance: 4.862e+04\n",
      "  model = cd_fast.enet_coordinate_descent(\n",
      "/Applications/anaconda3/lib/python3.11/site-packages/sklearn/linear_model/_coordinate_descent.py:697: ConvergenceWarning: Objective did not converge. You might want to increase the number of iterations, check the scale of the features or consider increasing regularisation. Duality gap: 1.234e+06, tolerance: 4.971e+04\n",
      "  model = cd_fast.enet_coordinate_descent(\n",
      "/Applications/anaconda3/lib/python3.11/site-packages/sklearn/linear_model/_coordinate_descent.py:697: ConvergenceWarning: Objective did not converge. You might want to increase the number of iterations, check the scale of the features or consider increasing regularisation. Duality gap: 3.684e+05, tolerance: 5.004e+04\n",
      "  model = cd_fast.enet_coordinate_descent(\n"
     ]
    },
    {
     "name": "stdout",
     "output_type": "stream",
     "text": [
      "Best alpha for Lasso: 0.1\n"
     ]
    }
   ],
   "source": [
    "lasso_alphas = {'alpha': [0.001, 0.01, 0.1, 1, 10, 100]}  \n",
    "\n",
    "lasso = Lasso()\n",
    "lasso_cv = GridSearchCV(lasso, param_grid=lasso_alphas, cv=5, scoring='neg_mean_squared_error')\n",
    "lasso_cv.fit(X_train_scaled, y_train)\n",
    "\n",
    "best_lasso_alpha = lasso_cv.best_params_['alpha']\n",
    "print(f\"Best alpha for Lasso: {best_lasso_alpha}\")"
   ]
  },
  {
   "cell_type": "code",
   "execution_count": 11,
   "metadata": {},
   "outputs": [
    {
     "name": "stdout",
     "output_type": "stream",
     "text": [
      "Lasso Regression Model - Training Metrics:\n",
      "MSE: 6871.3521, RMSE: 82.8936, R²: 0.2142\n",
      "\n",
      "Lasso Regression Model - Validation Metrics:\n",
      "MSE: 6472.4113, RMSE: 80.4513, R²: 0.2058\n"
     ]
    }
   ],
   "source": [
    "lasso_best = Lasso(alpha=0.1)\n",
    "lasso_best.fit(X_train_scaled, y_train)\n",
    "\n",
    "y_train_pred_lasso = lasso_best.predict(X_train_scaled)\n",
    "y_val_pred_lasso = lasso_best.predict(X_val_scaled)\n",
    "\n",
    "train_mse_lasso, train_rmse_lasso, train_r2_lasso = evaluate_model(y_train, y_train_pred_lasso)\n",
    "val_mse_lasso, val_rmse_lasso, val_r2_lasso = evaluate_model(y_val, y_val_pred_lasso) \n",
    "\n",
    "print(\"Lasso Regression Model - Training Metrics:\")\n",
    "print(f\"MSE: {train_mse_lasso:.4f}, RMSE: {train_rmse_lasso:.4f}, R²: {train_r2_lasso:.4f}\")\n",
    "\n",
    "# Print the results for the validation dataset\n",
    "print(\"\\nLasso Regression Model - Validation Metrics:\")\n",
    "print(f\"MSE: {val_mse_lasso:.4f}, RMSE: {val_rmse_lasso:.4f}, R²: {val_r2_lasso:.4f}\")"
   ]
  },
  {
   "cell_type": "code",
   "execution_count": 12,
   "metadata": {},
   "outputs": [
    {
     "name": "stdout",
     "output_type": "stream",
     "text": [
      "Model saved under /Users/carriexia/Documents/GitHub/ADAN8888.01_Fall_24_Applied_Analytics_Project/models/l1_model.pkl\n"
     ]
    }
   ],
   "source": [
    "# Save l1 model\n",
    "with open(l1_path, 'wb') as file:\n",
    "    pickle.dump(lasso_best, file)\n",
    "\n",
    "print(\"Model saved under\", l1_path)"
   ]
  },
  {
   "cell_type": "code",
   "execution_count": 13,
   "metadata": {},
   "outputs": [
    {
     "name": "stdout",
     "output_type": "stream",
     "text": [
      "Best alpha for Ridge: 100\n"
     ]
    }
   ],
   "source": [
    "ridge = Ridge()\n",
    "ridge_alphas = {'alpha': [0.001, 0.01, 0.1, 1, 10, 100]}  # Define alpha range\n",
    "ridge_cv = GridSearchCV(ridge, param_grid=ridge_alphas, cv=5, scoring='neg_mean_squared_error')\n",
    "ridge_cv.fit(X_train_scaled, y_train)\n",
    "best_ridge_alpha = ridge_cv.best_params_['alpha']\n",
    "print(f\"Best alpha for Ridge: {best_ridge_alpha}\")"
   ]
  },
  {
   "cell_type": "code",
   "execution_count": 14,
   "metadata": {},
   "outputs": [
    {
     "name": "stdout",
     "output_type": "stream",
     "text": [
      "Ridge Regression Model - Training Metrics:\n",
      "MSE: 6869.4575, RMSE: 82.8822, R²: 0.2145\n",
      "\n",
      "Ridge Regression Model - Validation Metrics:\n",
      "MSE: 6474.3920, RMSE: 80.4636, R²: 0.2056\n"
     ]
    }
   ],
   "source": [
    "ridge_best = Ridge(alpha=best_ridge_alpha)\n",
    "ridge_best.fit(X_train_scaled, y_train)\n",
    "\n",
    "y_train_pred_ridge = ridge_best.predict(X_train_scaled)\n",
    "y_val_pred_ridge = ridge_best.predict(X_val_scaled) \n",
    "\n",
    "train_mse_ridge, train_rmse_ridge, train_r2_ridge = evaluate_model(y_train, y_train_pred_ridge)\n",
    "val_mse_ridge, val_rmse_ridge, val_r2_ridge = evaluate_model(y_val, y_val_pred_ridge) \n",
    "\n",
    "print(\"Ridge Regression Model - Training Metrics:\")\n",
    "print(f\"MSE: {train_mse_ridge:.4f}, RMSE: {train_rmse_ridge:.4f}, R²: {train_r2_ridge:.4f}\")\n",
    "\n",
    "# Print the results for the validation dataset\n",
    "print(\"\\nRidge Regression Model - Validation Metrics:\")\n",
    "print(f\"MSE: {val_mse_ridge:.4f}, RMSE: {val_rmse_ridge:.4f}, R²: {val_r2_ridge:.4f}\")"
   ]
  },
  {
   "cell_type": "code",
   "execution_count": 15,
   "metadata": {},
   "outputs": [
    {
     "name": "stdout",
     "output_type": "stream",
     "text": [
      "Model saved under /Users/carriexia/Documents/GitHub/ADAN8888.01_Fall_24_Applied_Analytics_Project/models/l2_model.pkl\n"
     ]
    }
   ],
   "source": [
    "# Save l2 model\n",
    "with open(l2_path, 'wb') as file:\n",
    "    pickle.dump(ridge_best, file)\n",
    "\n",
    "print(\"Model saved under\", l2_path)"
   ]
  },
  {
   "cell_type": "markdown",
   "metadata": {},
   "source": [
    "### Experiment with polynomial terms\n",
    "We commented out this part to save memories when running on JupyterHub."
   ]
  },
  {
   "cell_type": "code",
   "execution_count": 16,
   "metadata": {},
   "outputs": [
    {
     "name": "stdout",
     "output_type": "stream",
     "text": [
      "Polynomial Regression Model - Training Metrics:\n",
      "MSE: 2.8405, RMSE: 1.6854, R²: 0.9997\n",
      "\n",
      "Polynomial Regression Model - Validation Metrics:\n",
      "MSE: 59460830145836367216640.0000, RMSE: 243845914761.4254, R²: -7295900558419439616.0000\n"
     ]
    }
   ],
   "source": [
    "poly = PolynomialFeatures(degree=2) \n",
    "X_train_poly = poly.fit_transform(X_train_scaled)\n",
    "X_val_poly = poly.transform(X_val_scaled)\n",
    "\n",
    "poly_model = LinearRegression()\n",
    "poly_model.fit(X_train_poly, y_train)\n",
    "\n",
    "y_train_pred_poly = poly_model.predict(X_train_poly)\n",
    "y_val_pred_poly = poly_model.predict(X_val_poly)\n",
    "\n",
    "train_mse_poly, train_rmse_poly, train_r2_poly = evaluate_model(y_train, y_train_pred_poly)\n",
    "val_mse_poly, val_rmse_poly, val_r2_poly = evaluate_model(y_val, y_val_pred_poly) \n",
    "\n",
    "# Print results\n",
    "print(\"Polynomial Regression Model - Training Metrics:\")\n",
    "print(\"MSE: {:.4f}, RMSE: {:.4f}, R²: {:.4f}\".format(train_mse_poly, train_rmse_poly, train_r2_poly))\n",
    "\n",
    "print(\"\\nPolynomial Regression Model - Validation Metrics:\")\n",
    "print(\"MSE: {:.4f}, RMSE: {:.4f}, R²: {:.4f}\".format(val_mse_poly, val_rmse_poly, val_r2_poly))"
   ]
  },
  {
   "cell_type": "code",
   "execution_count": 21,
   "metadata": {},
   "outputs": [],
   "source": [
    "X_train_poly_path = os.path.join(processed_data_folder, \"X_train_poly.parquet\")\n",
    "X_val_poly_path = os.path.join(processed_data_folder, \"X_val_poly.parquet\")\n",
    "X_train_poly = pd.DataFrame(X_train_poly)\n",
    "X_val_poly = pd.DataFrame(X_val_poly)\n",
    "X_train_poly.to_parquet(X_train_poly_path)\n",
    "X_val_poly.to_parquet(X_val_poly_path)"
   ]
  },
  {
   "cell_type": "code",
   "execution_count": 22,
   "metadata": {},
   "outputs": [
    {
     "name": "stdout",
     "output_type": "stream",
     "text": [
      "Model saved under /Users/carriexia/Documents/GitHub/ADAN8888.01_Fall_24_Applied_Analytics_Project/models/poly.pkl\n"
     ]
    }
   ],
   "source": [
    "# Save the model\n",
    "with open(poly_path, 'wb') as file:\n",
    "    pickle.dump(poly_model, file)\n",
    "\n",
    "print(\"Model saved under\", poly_path)"
   ]
  },
  {
   "cell_type": "code",
   "execution_count": 18,
   "metadata": {},
   "outputs": [
    {
     "name": "stdout",
     "output_type": "stream",
     "text": [
      "Best alpha for Ridge: 1\n",
      "Ridge Regression Model (Best alpha=1) - Training Metrics:\n",
      "MSE: 2.8320, RMSE: 1.6829, R²: 0.9997\n",
      "\n",
      "Validation Metrics:\n",
      "MSE: 9.7312, RMSE: 3.1195, R²: 0.9988\n"
     ]
    }
   ],
   "source": [
    "ridge_poly_alphas = {'alpha': [0.01, 0.1, 1]} \n",
    "\n",
    "ridge_poly = Ridge()\n",
    "\n",
    "ridge_cv = GridSearchCV(ridge_poly, param_grid = ridge_poly_alphas, cv = 5, scoring='neg_mean_squared_error')\n",
    "ridge_cv.fit(X_train_poly, y_train)\n",
    "\n",
    "best_ridge_alpha = ridge_cv.best_params_['alpha']\n",
    "print(f\"Best alpha for Ridge: {best_ridge_alpha}\")\n",
    "\n",
    "ridge_poly_best = Ridge(alpha=best_ridge_alpha)\n",
    "ridge_poly_best.fit(X_train_poly, y_train)\n",
    "\n",
    "y_train_pred_ridge = ridge_poly_best.predict(X_train_poly)\n",
    "y_val_pred_ridge = ridge_poly_best.predict(X_val_poly)\n",
    "\n",
    "train_mse_ridge, train_rmse_ridge, train_r2_ridge = evaluate_model(y_train, y_train_pred_ridge)\n",
    "val_mse_ridge, val_rmse_ridge, val_r2_ridge = evaluate_model(y_val, y_val_pred_ridge)\n",
    "\n",
    "print(\"Ridge Regression Model (Best alpha={}) - Training Metrics:\".format(best_ridge_alpha))\n",
    "print(\"MSE: {:.4f}, RMSE: {:.4f}, R²: {:.4f}\".format(train_mse_ridge, train_rmse_ridge, train_r2_ridge))\n",
    "print(\"\\nValidation Metrics:\")\n",
    "print(\"MSE: {:.4f}, RMSE: {:.4f}, R²: {:.4f}\".format(val_mse_ridge, val_rmse_ridge, val_r2_ridge))"
   ]
  },
  {
   "cell_type": "code",
   "execution_count": 19,
   "metadata": {},
   "outputs": [
    {
     "name": "stdout",
     "output_type": "stream",
     "text": [
      "Model saved under /Users/carriexia/Documents/GitHub/ADAN8888.01_Fall_24_Applied_Analytics_Project/models/poly_l2.pkl\n"
     ]
    }
   ],
   "source": [
    "# Save the model\n",
    "with open(poly_l2_path, 'wb') as file:\n",
    "    pickle.dump(ridge_poly_best, file)\n",
    "\n",
    "print(\"Model saved under\", poly_l2_path)"
   ]
  }
 ],
 "metadata": {
  "kernelspec": {
   "display_name": "Python 3",
   "language": "python",
   "name": "python3"
  },
  "language_info": {
   "codemirror_mode": {
    "name": "ipython",
    "version": 3
   },
   "file_extension": ".py",
   "mimetype": "text/x-python",
   "name": "python",
   "nbconvert_exporter": "python",
   "pygments_lexer": "ipython3",
   "version": "3.11.6"
  }
 },
 "nbformat": 4,
 "nbformat_minor": 4
}
