{
 "cells": [
  {
   "cell_type": "markdown",
   "metadata": {},
   "source": [
    "# Week 8 Notebook: Model training, hyperparameter tuning, and model evaluation\n",
    "The goal of this week's assignment is to use a third modeling method with 3 different hyperparameter settings of the method. "
   ]
  },
  {
   "cell_type": "markdown",
   "metadata": {},
   "source": [
    "### Import packages"
   ]
  },
  {
   "cell_type": "code",
   "execution_count": 4,
   "metadata": {},
   "outputs": [],
   "source": [
    "import pandas as pd\n",
    "import numpy as np\n",
    "import matplotlib.pyplot as plt\n",
    "import seaborn as sns\n",
    "import os\n",
    "import numpy as np\n",
    "import warnings\n",
    "from sklearn.model_selection import GridSearchCV\n",
    "from sklearn.metrics import r2_score, root_mean_squared_error, mean_squared_error\n",
    "from sklearn.ensemble import RandomForestRegressor\n",
    "#from xgboost import XGBRegressor"
   ]
  },
  {
   "cell_type": "markdown",
   "metadata": {},
   "source": [
    "### Read data as dataframe"
   ]
  },
  {
   "cell_type": "code",
   "execution_count": 5,
   "metadata": {},
   "outputs": [],
   "source": [
    "current_dir = os.getcwd()\n",
    "parent_dir = os.path.dirname(current_dir)\n",
    "\n",
    "data_folder = os.path.join(parent_dir,\"data\")\n",
    "raw_data_folder = os.path.join(data_folder,\"raw\")\n",
    "interim_data_folder = os.path.join(data_folder,\"interim\")\n",
    "processed_data_folder = os.path.join(data_folder, \"processed\")"
   ]
  },
  {
   "cell_type": "code",
   "execution_count": 6,
   "metadata": {},
   "outputs": [],
   "source": [
    "# X data path\n",
    "X_train_scaled_path = os.path.join(processed_data_folder, 'X_train_scaled.parquet')\n",
    "X_val_scaled_path = os.path.join(processed_data_folder, 'X_val_scaled.parquet')\n",
    "X_test_scaled_path = os.path.join(processed_data_folder, 'X_test_scaled.parquet')\n",
    "\n",
    "train_pca_path = os.path.join(processed_data_folder, 'X_train_pca.parquet')\n",
    "val_pca_path = os.path.join(processed_data_folder, 'X_val_pca.parquet')\n",
    "test_pca_path = os.path.join(processed_data_folder, 'X_test_pca.parquet')\n",
    "# Y data path\n",
    "y_train_path = os.path.join(processed_data_folder, 'y_train.parquet')\n",
    "y_val_path = os.path.join(processed_data_folder, 'y_val.parquet')\n",
    "y_test_path = os.path.join(processed_data_folder, 'y_test.parquet')"
   ]
  },
  {
   "cell_type": "code",
   "execution_count": 7,
   "metadata": {},
   "outputs": [],
   "source": [
    "# Reading the parquet files as dataframes\n",
    "X_train_scaled = pd.read_parquet(X_train_scaled_path)\n",
    "X_val_scaled = pd.read_parquet(X_val_scaled_path)\n",
    "X_test_scaled = pd.read_parquet(X_test_scaled_path)\n",
    "\n",
    "y_train = pd.read_parquet(y_train_path)\n",
    "y_val = pd.read_parquet(y_val_path)\n",
    "y_test = pd.read_parquet(y_test_path)\n",
    "\n",
    "X_train_pca = pd.read_parquet(train_pca_path)\n",
    "X_val_pca = pd.read_parquet(val_pca_path)\n",
    "X_test_pca = pd.read_parquet(test_pca_path)"
   ]
  },
  {
   "cell_type": "markdown",
   "metadata": {},
   "source": [
    "### Modeling"
   ]
  },
  {
   "cell_type": "markdown",
   "metadata": {},
   "source": [
    "### Random Forest"
   ]
  },
  {
   "cell_type": "code",
   "execution_count": 5,
   "metadata": {},
   "outputs": [
    {
     "name": "stderr",
     "output_type": "stream",
     "text": [
      "c:\\Users\\holly\\anaconda3\\Lib\\site-packages\\sklearn\\base.py:1473: DataConversionWarning: A column-vector y was passed when a 1d array was expected. Please change the shape of y to (n_samples,), for example using ravel().\n",
      "  return fit_method(estimator, *args, **kwargs)\n",
      "c:\\Users\\holly\\anaconda3\\Lib\\site-packages\\sklearn\\base.py:1473: DataConversionWarning: A column-vector y was passed when a 1d array was expected. Please change the shape of y to (n_samples,), for example using ravel().\n",
      "  return fit_method(estimator, *args, **kwargs)\n",
      "c:\\Users\\holly\\anaconda3\\Lib\\site-packages\\sklearn\\base.py:1473: DataConversionWarning: A column-vector y was passed when a 1d array was expected. Please change the shape of y to (n_samples,), for example using ravel().\n",
      "  return fit_method(estimator, *args, **kwargs)\n"
     ]
    },
    {
     "name": "stdout",
     "output_type": "stream",
     "text": [
      "Best Parameters: {'n_estimators': 50, 'max_depth': None, 'max_features': None}\n",
      "Lowest MSE on validation set: 3.40445860460778\n"
     ]
    }
   ],
   "source": [
    "# Define parameter combinations to try\n",
    "param_combinations = [\n",
    "    {'n_estimators': 50, 'max_depth': None, 'max_features': None},\n",
    "    {'n_estimators': 100, 'max_depth': 10, 'max_features': 'sqrt'},\n",
    "    {'n_estimators': 150, 'max_depth': 20, 'max_features': 'log2'}\n",
    "]\n",
    "\n",
    "# Initialize variables to store best model and score\n",
    "best_model = None\n",
    "best_params = None\n",
    "lowest_mse = float('inf')\n",
    "\n",
    "# Loop through each parameter combination\n",
    "for params in param_combinations:\n",
    "    # Initialize the model with the current parameters\n",
    "    rf_model = RandomForestRegressor(\n",
    "        n_estimators=params['n_estimators'],\n",
    "        max_depth=params['max_depth'],\n",
    "        max_features=params['max_features'],\n",
    "        random_state=42\n",
    "    )\n",
    "    \n",
    "    # Train the model\n",
    "    rf_model.fit(X_train_scaled, y_train)\n",
    "    \n",
    "    # Predict on validation data\n",
    "    y_val_pred = rf_model.predict(X_val_scaled)\n",
    "    \n",
    "    # Calculate Mean Squared Error\n",
    "    mse = mean_squared_error(y_val, y_val_pred)\n",
    "    \n",
    "    # Check if this is the best model so far\n",
    "    if mse < lowest_mse:\n",
    "        lowest_mse = mse\n",
    "        best_model = rf_model\n",
    "        best_params = params\n",
    "\n",
    "# Print the best hyperparameters and score\n",
    "print(\"Best Parameters:\", best_params)\n",
    "print(\"Lowest MSE on validation set:\", lowest_mse)\n"
   ]
  },
  {
   "cell_type": "code",
   "execution_count": 11,
   "metadata": {},
   "outputs": [
    {
     "name": "stdout",
     "output_type": "stream",
     "text": [
      "Parameters: {'n_estimators': 50, 'max_depth': None, 'max_features': None}\n",
      "Training MSE: 0.5153, RMSE: 0.7178, R²: 0.9999\n",
      "Validation MSE: 3.2682, RMSE: 1.8078, R²: 0.9996\n",
      "--------------------------------------------------\n",
      "Parameters: {'n_estimators': 100, 'max_depth': 10, 'max_features': 'sqrt'}\n",
      "Training MSE: 2115.6830, RMSE: 45.9966, R²: 0.7581\n",
      "Validation MSE: 2059.3197, RMSE: 45.3797, R²: 0.7473\n",
      "--------------------------------------------------\n",
      "Parameters: {'n_estimators': 150, 'max_depth': 20, 'max_features': 'log2'}\n",
      "Training MSE: 616.2523, RMSE: 24.8244, R²: 0.9295\n",
      "Validation MSE: 1054.9498, RMSE: 32.4800, R²: 0.8706\n",
      "--------------------------------------------------\n",
      "Best Parameters: {'n_estimators': 50, 'max_depth': None, 'max_features': None}\n",
      "Lowest MSE on validation set: 3.2682202267105542\n"
     ]
    }
   ],
   "source": [
    "from sklearn.metrics import mean_squared_error, r2_score\n",
    "import numpy as np\n",
    "\n",
    "# Define parameter combinations to try\n",
    "param_combinations = [\n",
    "    {'n_estimators': 50, 'max_depth': None, 'max_features': None},\n",
    "    {'n_estimators': 100, 'max_depth': 10, 'max_features': 'sqrt'},\n",
    "    {'n_estimators': 150, 'max_depth': 20, 'max_features': 'log2'}\n",
    "]\n",
    "\n",
    "# Initialize variables to store the best model and score\n",
    "best_model = None\n",
    "best_params = None\n",
    "lowest_mse = float('inf')\n",
    "\n",
    "# Loop through each parameter combination\n",
    "for params in param_combinations:\n",
    "    # Initialize the model with the current parameters\n",
    "    rf_model = RandomForestRegressor(\n",
    "        n_estimators=params['n_estimators'],\n",
    "        max_depth=params['max_depth'],\n",
    "        max_features=params['max_features'],\n",
    "        random_state=42\n",
    "    )\n",
    "    \n",
    "    # Train the model\n",
    "    rf_model.fit(X_train_scaled, y_train.values.ravel())\n",
    "    \n",
    "    # Predict on training data\n",
    "    y_train_pred = rf_model.predict(X_train_scaled)\n",
    "    \n",
    "    # Predict on validation data\n",
    "    y_val_pred = rf_model.predict(X_val_scaled)\n",
    "    \n",
    "    # Calculate metrics for training data\n",
    "    mse_train = mean_squared_error(y_train, y_train_pred)\n",
    "    rmse_train = np.sqrt(mse_train)\n",
    "    r2_train = r2_score(y_train, y_train_pred)\n",
    "    \n",
    "    # Calculate metrics for validation data\n",
    "    mse_val = mean_squared_error(y_val, y_val_pred)\n",
    "    rmse_val = np.sqrt(mse_val)\n",
    "    r2_val = r2_score(y_val, y_val_pred)\n",
    "    \n",
    "    # Check if this is the best model so far (based on validation MSE)\n",
    "    if mse_val < lowest_mse:\n",
    "        lowest_mse = mse_val\n",
    "        best_model = rf_model\n",
    "        best_params = params\n",
    "\n",
    "    # Print metrics for the current model\n",
    "    print(f\"Parameters: {params}\")\n",
    "    print(f\"Training MSE: {mse_train:.4f}, RMSE: {rmse_train:.4f}, R²: {r2_train:.4f}\")\n",
    "    print(f\"Validation MSE: {mse_val:.4f}, RMSE: {rmse_val:.4f}, R²: {r2_val:.4f}\")\n",
    "    print(\"-\" * 50)\n",
    "\n",
    "# Print the best hyperparameters and score\n",
    "print(\"Best Parameters:\", best_params)\n",
    "print(\"Lowest MSE on validation set:\", lowest_mse)"
   ]
  },
  {
   "cell_type": "markdown",
   "metadata": {},
   "source": [
    "### XGBoost"
   ]
  },
  {
   "cell_type": "code",
   "execution_count": 6,
   "metadata": {},
   "outputs": [
    {
     "name": "stdout",
     "output_type": "stream",
     "text": [
      "Best Parameters for XGBoost: {'n_estimators': 100, 'max_depth': 5, 'learning_rate': 0.05}\n",
      "Lowest MSE on validation set for XGBoost: 58.14836837530017\n"
     ]
    }
   ],
   "source": [
    "# Define parameter combinations to try\n",
    "param_combinations = [\n",
    "    {'n_estimators': 50, 'max_depth': 3, 'learning_rate': 0.1},\n",
    "    {'n_estimators': 100, 'max_depth': 5, 'learning_rate': 0.05},\n",
    "    {'n_estimators': 150, 'max_depth': 7, 'learning_rate': 0.01}\n",
    "]\n",
    "\n",
    "# Initialize variables to store best model and score\n",
    "best_model = None\n",
    "best_params = None\n",
    "lowest_mse = float('inf')\n",
    "\n",
    "# Loop through each parameter combination\n",
    "for params in param_combinations:\n",
    "    # Initialize the model with the current parameters\n",
    "    xgb_model = XGBRegressor(\n",
    "        n_estimators=params['n_estimators'],\n",
    "        max_depth=params['max_depth'],\n",
    "        learning_rate=params['learning_rate'],\n",
    "        random_state=42,\n",
    "        verbosity=0  # Suppresses warning messages for cleaner output\n",
    "    )\n",
    "    \n",
    "    # Train the model\n",
    "    xgb_model.fit(X_train_scaled, y_train)\n",
    "    \n",
    "    # Predict on validation data\n",
    "    y_val_pred = xgb_model.predict(X_val_scaled)\n",
    "    \n",
    "    # Calculate Mean Squared Error\n",
    "    mse = mean_squared_error(y_val, y_val_pred)\n",
    "    \n",
    "    # Check if this is the best model so far\n",
    "    if mse < lowest_mse:\n",
    "        lowest_mse = mse\n",
    "        best_model = xgb_model\n",
    "        best_params = params\n",
    "\n",
    "# Print the best hyperparameters and score\n",
    "print(\"Best Parameters for XGBoost:\", best_params)\n",
    "print(\"Lowest MSE on validation set for XGBoost:\", lowest_mse)"
   ]
  }
 ],
 "metadata": {
  "kernelspec": {
   "display_name": "Python 3 (ipykernel)",
   "language": "python",
   "name": "python3"
  },
  "language_info": {
   "codemirror_mode": {
    "name": "ipython",
    "version": 3
   },
   "file_extension": ".py",
   "mimetype": "text/x-python",
   "name": "python",
   "nbconvert_exporter": "python",
   "pygments_lexer": "ipython3",
   "version": "3.10.15"
  }
 },
 "nbformat": 4,
 "nbformat_minor": 4
}
