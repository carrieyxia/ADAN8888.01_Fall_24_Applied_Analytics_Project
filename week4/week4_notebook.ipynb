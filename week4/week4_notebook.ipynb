{
 "cells": [
  {
   "cell_type": "markdown",
   "metadata": {},
   "source": [
    "# Week 4 Notebook: Data Preprocessing\n",
    "The goal of this week's assignment is to continue to preprocess our data by cleaning it, treating issues such as outliers and missing values, transforming variables, and making the data model-ready. "
   ]
  },
  {
   "cell_type": "markdown",
   "metadata": {},
   "source": [
    "### Import packages"
   ]
  },
  {
   "cell_type": "code",
   "execution_count": 1,
   "metadata": {},
   "outputs": [],
   "source": [
    "import pandas as pd\n",
    "import numpy as np\n",
    "import matplotlib.pyplot as plt\n",
    "import seaborn as sns\n",
    "import os\n",
    "import zipfile"
   ]
  },
  {
   "cell_type": "markdown",
   "metadata": {},
   "source": [
    "### Read data as dataframe"
   ]
  },
  {
   "cell_type": "code",
   "execution_count": 2,
   "metadata": {},
   "outputs": [
    {
     "data": {
      "text/plain": [
       "'\\ncurrent_dir = os.getcwd()\\nparent_dir = os.path.dirname(current_dir)\\n\\ndata_folder = os.path.join(parent_dir,\"data\")\\nraw_data_folder = os.path.join(data_folder,\"raw\")\\n\\nuber_file_path = os.path.join(raw_data_folder, \"uber.csv.zip\")\\nlyft_file_path = os.path.join(raw_data_folder, \"lyft.csv.zip\")\\n'"
      ]
     },
     "execution_count": 2,
     "metadata": {},
     "output_type": "execute_result"
    }
   ],
   "source": [
    "\"\"\"\n",
    "current_dir = os.getcwd()\n",
    "parent_dir = os.path.dirname(current_dir)\n",
    "\n",
    "data_folder = os.path.join(parent_dir,\"data\")\n",
    "raw_data_folder = os.path.join(data_folder,\"raw\")\n",
    "\n",
    "uber_file_path = os.path.join(raw_data_folder, \"uber.csv.zip\")\n",
    "lyft_file_path = os.path.join(raw_data_folder, \"lyft.csv.zip\")\n",
    "\"\"\""
   ]
  },
  {
   "cell_type": "code",
   "execution_count": null,
   "metadata": {},
   "outputs": [],
   "source": [
    "\"\"\"\n",
    "if os.path.exists(uber_file_path):\n",
    "    with zipfile.ZipFile(uber_file_path, 'r') as zip_ref:\n",
    "        zip_ref.extractall(raw_data_folder)\n",
    "    print(f\"Uber file extracted to: {raw_data_folder}\")\n",
    "else:\n",
    "    print(f\"Uber file not found: {uber_file_path}\")\n",
    "\n",
    "if os.path.exists(lyft_file_path):\n",
    "    with zipfile.ZipFile(lyft_file_path, 'r') as zip_ref:\n",
    "        zip_ref.extractall(raw_data_folder)\n",
    "    print(f\"Lyft file extracted to: {raw_data_folder}\")\n",
    "else:\n",
    "    print(f\"Lyft file not found: {lyft_file_path}\")\n",
    "\"\"\""
   ]
  },
  {
   "cell_type": "code",
   "execution_count": 4,
   "metadata": {},
   "outputs": [],
   "source": [
    "\"\"\"\n",
    "uber_csv_path = os.path.join(raw_data_folder, \"uber.csv\")\n",
    "lyft_csv_path = os.path.join(raw_data_folder, \"lyft.csv\")\n",
    "\n",
    "uber_df = pd.read_csv(uber_csv_path)\n",
    "lyft_df = pd.read_csv(lyft_csv_path)\n",
    "    \n",
    "df = pd.concat([uber_df, lyft_df], ignore_index=True)\n",
    "\"\"\""
   ]
  },
  {
   "cell_type": "code",
   "execution_count": 3,
   "metadata": {},
   "outputs": [],
   "source": [
    "# Load the data as a pandas dataframe.\n",
    "df = pd.read_csv('rideshare_kaggle.csv')"
   ]
  },
  {
   "cell_type": "markdown",
   "metadata": {},
   "source": [
    "### Split the dataset into training, testing, and validation sets\n",
    "- training set is 70% of the dataframe\n",
    "- validation set is 20% of the dataframe\n",
    "- test set is 10% of the dataframe"
   ]
  },
  {
   "cell_type": "code",
   "execution_count": 4,
   "metadata": {},
   "outputs": [],
   "source": [
    "def train_val_test_split(df):\n",
    "    # Suffle the dataset and calculate the size of validation and test sets\n",
    "\n",
    "    df = df.sample(frac=1, random_state=123)\n",
    "\n",
    "    val_size = int(len(df) * 0.2)\n",
    "    test_size = int(len(df) * 0.1)\n",
    "\n",
    "    # Select rows based on the val_size and test_size to store as train set, val set, and test set\n",
    "    train_df = df.iloc[val_size + test_size:]\n",
    "    val_df = df.iloc[:val_size]\n",
    "    test_df = df.iloc[val_size:val_size + test_size]\n",
    "    return train_df, val_df, test_df\n",
    "\n",
    "train_df, val_df, test_df = train_val_test_split(df)\n"
   ]
  },
  {
   "cell_type": "code",
   "execution_count": 5,
   "metadata": {},
   "outputs": [
    {
     "name": "stdout",
     "output_type": "stream",
     "text": [
      "cat_col = 9\n",
      "num_col = 46\n",
      "\n"
     ]
    }
   ],
   "source": [
    "cat_col = [col for col in df.columns if df[col].dtype == 'object']\n",
    "cat_col = [\n",
    " 'timezone',\n",
    " 'source',\n",
    " 'destination',\n",
    " 'cab_type',\n",
    " 'product_id',\n",
    " 'name',\n",
    " 'short_summary',\n",
    " 'long_summary',\n",
    " 'icon']\n",
    "num_col = [col for col in df.columns if col not in cat_col]\n",
    "\n",
    "# Remove 'id' and 'datetime' from the list of column names\n",
    "num_col = [col for col in num_col if col not in ['id', 'datetime']]\n",
    "\n",
    "print(f\"cat_col = {len(cat_col)}\\nnum_col = {len(num_col)}\\n\")"
   ]
  },
  {
   "cell_type": "code",
   "execution_count": 6,
   "metadata": {},
   "outputs": [
    {
     "data": {
      "text/plain": [
       "['timestamp',\n",
       " 'hour',\n",
       " 'day',\n",
       " 'month',\n",
       " 'price',\n",
       " 'distance',\n",
       " 'surge_multiplier',\n",
       " 'latitude',\n",
       " 'longitude',\n",
       " 'temperature',\n",
       " 'apparentTemperature',\n",
       " 'precipIntensity',\n",
       " 'precipProbability',\n",
       " 'humidity',\n",
       " 'windSpeed',\n",
       " 'windGust',\n",
       " 'windGustTime',\n",
       " 'visibility',\n",
       " 'temperatureHigh',\n",
       " 'temperatureHighTime',\n",
       " 'temperatureLow',\n",
       " 'temperatureLowTime',\n",
       " 'apparentTemperatureHigh',\n",
       " 'apparentTemperatureHighTime',\n",
       " 'apparentTemperatureLow',\n",
       " 'apparentTemperatureLowTime',\n",
       " 'dewPoint',\n",
       " 'pressure',\n",
       " 'windBearing',\n",
       " 'cloudCover',\n",
       " 'uvIndex',\n",
       " 'visibility.1',\n",
       " 'ozone',\n",
       " 'sunriseTime',\n",
       " 'sunsetTime',\n",
       " 'moonPhase',\n",
       " 'precipIntensityMax',\n",
       " 'uvIndexTime',\n",
       " 'temperatureMin',\n",
       " 'temperatureMinTime',\n",
       " 'temperatureMax',\n",
       " 'temperatureMaxTime',\n",
       " 'apparentTemperatureMin',\n",
       " 'apparentTemperatureMinTime',\n",
       " 'apparentTemperatureMax',\n",
       " 'apparentTemperatureMaxTime']"
      ]
     },
     "execution_count": 6,
     "metadata": {},
     "output_type": "execute_result"
    }
   ],
   "source": [
    "num_col"
   ]
  },
  {
   "cell_type": "markdown",
   "metadata": {},
   "source": [
    "### Missing Value Investigation"
   ]
  },
  {
   "cell_type": "code",
   "execution_count": 7,
   "metadata": {},
   "outputs": [
    {
     "data": {
      "text/plain": [
       "id                                 0\n",
       "timestamp                          0\n",
       "hour                               0\n",
       "day                                0\n",
       "month                              0\n",
       "datetime                           0\n",
       "timezone                           0\n",
       "source                             0\n",
       "destination                        0\n",
       "cab_type                           0\n",
       "product_id                         0\n",
       "name                               0\n",
       "price                          55095\n",
       "distance                           0\n",
       "surge_multiplier                   0\n",
       "latitude                           0\n",
       "longitude                          0\n",
       "temperature                        0\n",
       "apparentTemperature                0\n",
       "short_summary                      0\n",
       "long_summary                       0\n",
       "precipIntensity                    0\n",
       "precipProbability                  0\n",
       "humidity                           0\n",
       "windSpeed                          0\n",
       "windGust                           0\n",
       "windGustTime                       0\n",
       "visibility                         0\n",
       "temperatureHigh                    0\n",
       "temperatureHighTime                0\n",
       "temperatureLow                     0\n",
       "temperatureLowTime                 0\n",
       "apparentTemperatureHigh            0\n",
       "apparentTemperatureHighTime        0\n",
       "apparentTemperatureLow             0\n",
       "apparentTemperatureLowTime         0\n",
       "icon                               0\n",
       "dewPoint                           0\n",
       "pressure                           0\n",
       "windBearing                        0\n",
       "cloudCover                         0\n",
       "uvIndex                            0\n",
       "visibility.1                       0\n",
       "ozone                              0\n",
       "sunriseTime                        0\n",
       "sunsetTime                         0\n",
       "moonPhase                          0\n",
       "precipIntensityMax                 0\n",
       "uvIndexTime                        0\n",
       "temperatureMin                     0\n",
       "temperatureMinTime                 0\n",
       "temperatureMax                     0\n",
       "temperatureMaxTime                 0\n",
       "apparentTemperatureMin             0\n",
       "apparentTemperatureMinTime         0\n",
       "apparentTemperatureMax             0\n",
       "apparentTemperatureMaxTime         0\n",
       "dtype: int64"
      ]
     },
     "execution_count": 7,
     "metadata": {},
     "output_type": "execute_result"
    }
   ],
   "source": [
    "df.isnull().sum()"
   ]
  },
  {
   "cell_type": "code",
   "execution_count": 10,
   "metadata": {},
   "outputs": [
    {
     "name": "stdout",
     "output_type": "stream",
     "text": [
      "Percentage of missing values in 'price': 7.95%\n"
     ]
    }
   ],
   "source": [
    "# Check the percentage of missing values in 'price'\n",
    "df_na = df[df['price'].isna()]\n",
    "missing_percentage = df['price'].isna().sum() / len(df) * 100\n",
    "print(f\"Percentage of missing values in 'price': {missing_percentage:.2f}%\")"
   ]
  },
  {
   "cell_type": "markdown",
   "metadata": {},
   "source": [
    "We are missing `price` for 55,095 rows (roughly 8% of the dataframe)."
   ]
  },
  {
   "cell_type": "markdown",
   "metadata": {},
   "source": [
    "### Visualization for Missing Values"
   ]
  },
  {
   "cell_type": "code",
   "execution_count": 27,
   "metadata": {},
   "outputs": [
    {
     "data": {
      "image/png": "[encoded data removed]",
      "text/plain": [
       "<Figure size 1600x600 with 2 Axes>"
      ]
     },
     "metadata": {},
     "output_type": "display_data"
    }
   ],
   "source": [
    "# Set up a 3x2 grid for subplots\n",
    "fig, axes = plt.subplots(1, 2, figsize=(16, 6))\n",
    "\n",
    "# Distribution of 'cab_type' when 'price' is missing\n",
    "sns.countplot(x='cab_type', data=df_na, palette='Set2', ax=axes[0])\n",
    "axes[0].set_title('Distribution of Cab Type when Price is Missing')\n",
    "\n",
    "# Distribution of 'name' when 'price' is missing\n",
    "sns.countplot(x='name', data=df_na, palette='Set2', order=df_na['name'].value_counts().index, ax=axes[1])\n",
    "axes[1].set_title('Distribution of Name when Price is Missing')\n",
    "axes[1].tick_params(axis='x', rotation=45)\n",
    "\n",
    "\n",
    "# Adjust layout\n",
    "plt.tight_layout()\n",
    "plt.show()\n"
   ]
  },
  {
   "cell_type": "markdown",
   "metadata": {},
   "source": [
    "As illustrated in the graphs, the only type of ride that has a missing price is `cab_type` 'Uber' and `name` 'Taxi'. For `name`, the unique classes are: ['Shared' 'Lux' 'Lyft' 'Lux Black XL' 'Lyft XL' 'Lux Black' 'UberXL' 'Black' 'UberX' 'WAV' 'Black SUV' 'UberPool' 'Taxi']."
   ]
  },
  {
   "cell_type": "markdown",
   "metadata": {},
   "source": [
    "### Missing Value Imputation "
   ]
  },
  {
   "cell_type": "markdown",
   "metadata": {},
   "source": [
    "Uber has a ride option called 'Taxi', which pairs riders with local taxi cab drivers. Every observation labeled 'taxi' is missing the price, and there are no missing values for any other type of ride. Therefore, we plan to impute the missing values with prices based on the distance of the ride and the Boston Taxi rate. \n",
    "\n",
    "Taxi rates are available publicly on boston.gov at the link below. \n",
    "\n",
    "https://police.boston.gov/taxi-rates/ \n",
    "\n",
    "We are not sure whether Uber charges exact taxi rates for their taxi option or if there are any additional fees. Since this is our best estimate, we will impute prices based on the exact taxi rate. "
   ]
  },
  {
   "cell_type": "code",
   "execution_count": 28,
   "metadata": {},
   "outputs": [
    {
     "data": {
      "text/html": [
       "<div>\n",
       "<style scoped>\n",
       "    .dataframe tbody tr th:only-of-type {\n",
       "        vertical-align: middle;\n",
       "    }\n",
       "\n",
       "    .dataframe tbody tr th {\n",
       "        vertical-align: top;\n",
       "    }\n",
       "\n",
       "    .dataframe thead th {\n",
       "        text-align: right;\n",
       "    }\n",
       "</style>\n",
       "<table border=\"1\" class=\"dataframe\">\n",
       "  <thead>\n",
       "    <tr style=\"text-align: right;\">\n",
       "      <th></th>\n",
       "      <th>timestamp</th>\n",
       "      <th>hour</th>\n",
       "      <th>day</th>\n",
       "      <th>month</th>\n",
       "      <th>price</th>\n",
       "      <th>distance</th>\n",
       "      <th>surge_multiplier</th>\n",
       "      <th>latitude</th>\n",
       "      <th>longitude</th>\n",
       "      <th>temperature</th>\n",
       "      <th>...</th>\n",
       "      <th>precipIntensityMax</th>\n",
       "      <th>uvIndexTime</th>\n",
       "      <th>temperatureMin</th>\n",
       "      <th>temperatureMinTime</th>\n",
       "      <th>temperatureMax</th>\n",
       "      <th>temperatureMaxTime</th>\n",
       "      <th>apparentTemperatureMin</th>\n",
       "      <th>apparentTemperatureMinTime</th>\n",
       "      <th>apparentTemperatureMax</th>\n",
       "      <th>apparentTemperatureMaxTime</th>\n",
       "    </tr>\n",
       "  </thead>\n",
       "  <tbody>\n",
       "    <tr>\n",
       "      <th>count</th>\n",
       "      <td>5.509500e+04</td>\n",
       "      <td>55095.000000</td>\n",
       "      <td>55095.000000</td>\n",
       "      <td>55095.000000</td>\n",
       "      <td>0.0</td>\n",
       "      <td>55095.000000</td>\n",
       "      <td>55095.0</td>\n",
       "      <td>55095.000000</td>\n",
       "      <td>55095.000000</td>\n",
       "      <td>55095.000000</td>\n",
       "      <td>...</td>\n",
       "      <td>55095.000000</td>\n",
       "      <td>5.509500e+04</td>\n",
       "      <td>55095.000000</td>\n",
       "      <td>5.509500e+04</td>\n",
       "      <td>55095.000000</td>\n",
       "      <td>5.509500e+04</td>\n",
       "      <td>55095.000000</td>\n",
       "      <td>5.509500e+04</td>\n",
       "      <td>55095.000000</td>\n",
       "      <td>5.509500e+04</td>\n",
       "    </tr>\n",
       "    <tr>\n",
       "      <th>mean</th>\n",
       "      <td>1.544046e+09</td>\n",
       "      <td>11.626191</td>\n",
       "      <td>17.756040</td>\n",
       "      <td>11.588238</td>\n",
       "      <td>NaN</td>\n",
       "      <td>2.191383</td>\n",
       "      <td>1.0</td>\n",
       "      <td>42.338303</td>\n",
       "      <td>-71.066230</td>\n",
       "      <td>39.607343</td>\n",
       "      <td>...</td>\n",
       "      <td>0.037436</td>\n",
       "      <td>1.544045e+09</td>\n",
       "      <td>33.476342</td>\n",
       "      <td>1.544042e+09</td>\n",
       "      <td>45.277155</td>\n",
       "      <td>1.544048e+09</td>\n",
       "      <td>29.753849</td>\n",
       "      <td>1.544049e+09</td>\n",
       "      <td>42.014321</td>\n",
       "      <td>1.544049e+09</td>\n",
       "    </tr>\n",
       "    <tr>\n",
       "      <th>std</th>\n",
       "      <td>6.890791e+05</td>\n",
       "      <td>6.940503</td>\n",
       "      <td>9.984649</td>\n",
       "      <td>0.492157</td>\n",
       "      <td>NaN</td>\n",
       "      <td>1.178985</td>\n",
       "      <td>0.0</td>\n",
       "      <td>0.047654</td>\n",
       "      <td>0.020286</td>\n",
       "      <td>6.732861</td>\n",
       "      <td>...</td>\n",
       "      <td>0.055190</td>\n",
       "      <td>6.909305e+05</td>\n",
       "      <td>6.477382</td>\n",
       "      <td>6.900481e+05</td>\n",
       "      <td>5.652388</td>\n",
       "      <td>6.898592e+05</td>\n",
       "      <td>7.117307</td>\n",
       "      <td>6.870186e+05</td>\n",
       "      <td>6.951950</td>\n",
       "      <td>6.907825e+05</td>\n",
       "    </tr>\n",
       "    <tr>\n",
       "      <th>min</th>\n",
       "      <td>1.543204e+09</td>\n",
       "      <td>0.000000</td>\n",
       "      <td>1.000000</td>\n",
       "      <td>11.000000</td>\n",
       "      <td>NaN</td>\n",
       "      <td>0.020000</td>\n",
       "      <td>1.0</td>\n",
       "      <td>42.214800</td>\n",
       "      <td>-71.105400</td>\n",
       "      <td>18.910000</td>\n",
       "      <td>...</td>\n",
       "      <td>0.000000</td>\n",
       "      <td>1.543162e+09</td>\n",
       "      <td>15.630000</td>\n",
       "      <td>1.543122e+09</td>\n",
       "      <td>33.510000</td>\n",
       "      <td>1.543154e+09</td>\n",
       "      <td>11.810000</td>\n",
       "      <td>1.543136e+09</td>\n",
       "      <td>28.950000</td>\n",
       "      <td>1.543187e+09</td>\n",
       "    </tr>\n",
       "    <tr>\n",
       "      <th>25%</th>\n",
       "      <td>1.543444e+09</td>\n",
       "      <td>6.000000</td>\n",
       "      <td>13.000000</td>\n",
       "      <td>11.000000</td>\n",
       "      <td>NaN</td>\n",
       "      <td>1.300000</td>\n",
       "      <td>1.0</td>\n",
       "      <td>42.350300</td>\n",
       "      <td>-71.081000</td>\n",
       "      <td>36.500000</td>\n",
       "      <td>...</td>\n",
       "      <td>0.000000</td>\n",
       "      <td>1.543421e+09</td>\n",
       "      <td>30.170000</td>\n",
       "      <td>1.543399e+09</td>\n",
       "      <td>42.570000</td>\n",
       "      <td>1.543439e+09</td>\n",
       "      <td>27.760000</td>\n",
       "      <td>1.543399e+09</td>\n",
       "      <td>36.570000</td>\n",
       "      <td>1.543439e+09</td>\n",
       "    </tr>\n",
       "    <tr>\n",
       "      <th>50%</th>\n",
       "      <td>1.543739e+09</td>\n",
       "      <td>12.000000</td>\n",
       "      <td>17.000000</td>\n",
       "      <td>12.000000</td>\n",
       "      <td>NaN</td>\n",
       "      <td>2.170000</td>\n",
       "      <td>1.0</td>\n",
       "      <td>42.351900</td>\n",
       "      <td>-71.063100</td>\n",
       "      <td>40.550000</td>\n",
       "      <td>...</td>\n",
       "      <td>0.000400</td>\n",
       "      <td>1.543770e+09</td>\n",
       "      <td>34.240000</td>\n",
       "      <td>1.543727e+09</td>\n",
       "      <td>44.680000</td>\n",
       "      <td>1.543788e+09</td>\n",
       "      <td>30.130000</td>\n",
       "      <td>1.543745e+09</td>\n",
       "      <td>40.950000</td>\n",
       "      <td>1.543788e+09</td>\n",
       "    </tr>\n",
       "    <tr>\n",
       "      <th>75%</th>\n",
       "      <td>1.544828e+09</td>\n",
       "      <td>18.000000</td>\n",
       "      <td>28.000000</td>\n",
       "      <td>12.000000</td>\n",
       "      <td>NaN</td>\n",
       "      <td>2.840000</td>\n",
       "      <td>1.0</td>\n",
       "      <td>42.364700</td>\n",
       "      <td>-71.054200</td>\n",
       "      <td>43.610000</td>\n",
       "      <td>...</td>\n",
       "      <td>0.091600</td>\n",
       "      <td>1.544807e+09</td>\n",
       "      <td>38.940000</td>\n",
       "      <td>1.544789e+09</td>\n",
       "      <td>46.910000</td>\n",
       "      <td>1.544814e+09</td>\n",
       "      <td>35.710000</td>\n",
       "      <td>1.544789e+09</td>\n",
       "      <td>44.120000</td>\n",
       "      <td>1.544818e+09</td>\n",
       "    </tr>\n",
       "    <tr>\n",
       "      <th>max</th>\n",
       "      <td>1.545161e+09</td>\n",
       "      <td>23.000000</td>\n",
       "      <td>30.000000</td>\n",
       "      <td>12.000000</td>\n",
       "      <td>NaN</td>\n",
       "      <td>7.860000</td>\n",
       "      <td>1.0</td>\n",
       "      <td>42.366100</td>\n",
       "      <td>-71.033000</td>\n",
       "      <td>57.220000</td>\n",
       "      <td>...</td>\n",
       "      <td>0.145900</td>\n",
       "      <td>1.545152e+09</td>\n",
       "      <td>43.100000</td>\n",
       "      <td>1.545192e+09</td>\n",
       "      <td>57.870000</td>\n",
       "      <td>1.545109e+09</td>\n",
       "      <td>40.050000</td>\n",
       "      <td>1.545134e+09</td>\n",
       "      <td>57.200000</td>\n",
       "      <td>1.545109e+09</td>\n",
       "    </tr>\n",
       "  </tbody>\n",
       "</table>\n",
       "<p>8 rows × 46 columns</p>\n",
       "</div>"
      ],
      "text/plain": [
       "          timestamp          hour           day         month  price  \\\n",
       "count  5.509500e+04  55095.000000  55095.000000  55095.000000    0.0   \n",
       "mean   1.544046e+09     11.626191     17.756040     11.588238    NaN   \n",
       "std    6.890791e+05      6.940503      9.984649      0.492157    NaN   \n",
       "min    1.543204e+09      0.000000      1.000000     11.000000    NaN   \n",
       "25%    1.543444e+09      6.000000     13.000000     11.000000    NaN   \n",
       "50%    1.543739e+09     12.000000     17.000000     12.000000    NaN   \n",
       "75%    1.544828e+09     18.000000     28.000000     12.000000    NaN   \n",
       "max    1.545161e+09     23.000000     30.000000     12.000000    NaN   \n",
       "\n",
       "           distance  surge_multiplier      latitude     longitude  \\\n",
       "count  55095.000000           55095.0  55095.000000  55095.000000   \n",
       "mean       2.191383               1.0     42.338303    -71.066230   \n",
       "std        1.178985               0.0      0.047654      0.020286   \n",
       "min        0.020000               1.0     42.214800    -71.105400   \n",
       "25%        1.300000               1.0     42.350300    -71.081000   \n",
       "50%        2.170000               1.0     42.351900    -71.063100   \n",
       "75%        2.840000               1.0     42.364700    -71.054200   \n",
       "max        7.860000               1.0     42.366100    -71.033000   \n",
       "\n",
       "        temperature  ...  precipIntensityMax   uvIndexTime  temperatureMin  \\\n",
       "count  55095.000000  ...        55095.000000  5.509500e+04    55095.000000   \n",
       "mean      39.607343  ...            0.037436  1.544045e+09       33.476342   \n",
       "std        6.732861  ...            0.055190  6.909305e+05        6.477382   \n",
       "min       18.910000  ...            0.000000  1.543162e+09       15.630000   \n",
       "25%       36.500000  ...            0.000000  1.543421e+09       30.170000   \n",
       "50%       40.550000  ...            0.000400  1.543770e+09       34.240000   \n",
       "75%       43.610000  ...            0.091600  1.544807e+09       38.940000   \n",
       "max       57.220000  ...            0.145900  1.545152e+09       43.100000   \n",
       "\n",
       "       temperatureMinTime  temperatureMax  temperatureMaxTime  \\\n",
       "count        5.509500e+04    55095.000000        5.509500e+04   \n",
       "mean         1.544042e+09       45.277155        1.544048e+09   \n",
       "std          6.900481e+05        5.652388        6.898592e+05   \n",
       "min          1.543122e+09       33.510000        1.543154e+09   \n",
       "25%          1.543399e+09       42.570000        1.543439e+09   \n",
       "50%          1.543727e+09       44.680000        1.543788e+09   \n",
       "75%          1.544789e+09       46.910000        1.544814e+09   \n",
       "max          1.545192e+09       57.870000        1.545109e+09   \n",
       "\n",
       "       apparentTemperatureMin  apparentTemperatureMinTime  \\\n",
       "count            55095.000000                5.509500e+04   \n",
       "mean                29.753849                1.544049e+09   \n",
       "std                  7.117307                6.870186e+05   \n",
       "min                 11.810000                1.543136e+09   \n",
       "25%                 27.760000                1.543399e+09   \n",
       "50%                 30.130000                1.543745e+09   \n",
       "75%                 35.710000                1.544789e+09   \n",
       "max                 40.050000                1.545134e+09   \n",
       "\n",
       "       apparentTemperatureMax  apparentTemperatureMaxTime  \n",
       "count            55095.000000                5.509500e+04  \n",
       "mean                42.014321                1.544049e+09  \n",
       "std                  6.951950                6.907825e+05  \n",
       "min                 28.950000                1.543187e+09  \n",
       "25%                 36.570000                1.543439e+09  \n",
       "50%                 40.950000                1.543788e+09  \n",
       "75%                 44.120000                1.544818e+09  \n",
       "max                 57.200000                1.545109e+09  \n",
       "\n",
       "[8 rows x 46 columns]"
      ]
     },
     "execution_count": 28,
     "metadata": {},
     "output_type": "execute_result"
    }
   ],
   "source": [
    "# First, check if all the Uber Taxi `Price` is missing.\n",
    "df_taxi = df[df[\"name\"]== \"Taxi\"]\n",
    "\n",
    "df_taxi.describe()"
   ]
  },
  {
   "cell_type": "code",
   "execution_count": 29,
   "metadata": {},
   "outputs": [],
   "source": [
    "# Define a function to calculate the Taxi price based on the distance\n",
    "def calculate_taxi_fare(distance):\n",
    "    base_fare = 2.60  # First 1/7 mile costs $2.60\n",
    "    additional_fare_per_seventh = 0.40  # Each 1/7 mile thereafter costs $0.40\n",
    "    if distance <= 1/7:\n",
    "        return base_fare\n",
    "    else:\n",
    "        additional_fare = (distance - 1/7) // (1/7) * additional_fare_per_seventh\n",
    "        return base_fare + additional_fare"
   ]
  },
  {
   "cell_type": "code",
   "execution_count": 30,
   "metadata": {},
   "outputs": [],
   "source": [
    "# Apply the function to impute missing prices for Taxi rides\n",
    "df.loc[df['name'] == 'Taxi', 'price'] = df.loc[df['name'] == 'Taxi', 'distance'].apply(calculate_taxi_fare)"
   ]
  },
  {
   "cell_type": "code",
   "execution_count": 31,
   "metadata": {},
   "outputs": [
    {
     "data": {
      "text/html": [
       "<div>\n",
       "<style scoped>\n",
       "    .dataframe tbody tr th:only-of-type {\n",
       "        vertical-align: middle;\n",
       "    }\n",
       "\n",
       "    .dataframe tbody tr th {\n",
       "        vertical-align: top;\n",
       "    }\n",
       "\n",
       "    .dataframe thead th {\n",
       "        text-align: right;\n",
       "    }\n",
       "</style>\n",
       "<table border=\"1\" class=\"dataframe\">\n",
       "  <thead>\n",
       "    <tr style=\"text-align: right;\">\n",
       "      <th></th>\n",
       "      <th>distance</th>\n",
       "      <th>price</th>\n",
       "    </tr>\n",
       "  </thead>\n",
       "  <tbody>\n",
       "    <tr>\n",
       "      <th>18</th>\n",
       "      <td>1.11</td>\n",
       "      <td>5.0</td>\n",
       "    </tr>\n",
       "    <tr>\n",
       "      <th>31</th>\n",
       "      <td>2.48</td>\n",
       "      <td>9.0</td>\n",
       "    </tr>\n",
       "    <tr>\n",
       "      <th>40</th>\n",
       "      <td>2.94</td>\n",
       "      <td>10.2</td>\n",
       "    </tr>\n",
       "    <tr>\n",
       "      <th>60</th>\n",
       "      <td>1.16</td>\n",
       "      <td>5.4</td>\n",
       "    </tr>\n",
       "    <tr>\n",
       "      <th>69</th>\n",
       "      <td>2.67</td>\n",
       "      <td>9.4</td>\n",
       "    </tr>\n",
       "  </tbody>\n",
       "</table>\n",
       "</div>"
      ],
      "text/plain": [
       "    distance  price\n",
       "18      1.11    5.0\n",
       "31      2.48    9.0\n",
       "40      2.94   10.2\n",
       "60      1.16    5.4\n",
       "69      2.67    9.4"
      ]
     },
     "execution_count": 31,
     "metadata": {},
     "output_type": "execute_result"
    }
   ],
   "source": [
    "# Check if the prices have been correctly imputed\n",
    "df_taxi = df[df[\"name\"] == \"Taxi\"]\n",
    "df_taxi[['distance', 'price']].head()"
   ]
  },
  {
   "cell_type": "code",
   "execution_count": 32,
   "metadata": {},
   "outputs": [
    {
     "data": {
      "text/plain": [
       "id                             0\n",
       "timestamp                      0\n",
       "hour                           0\n",
       "day                            0\n",
       "month                          0\n",
       "datetime                       0\n",
       "timezone                       0\n",
       "source                         0\n",
       "destination                    0\n",
       "cab_type                       0\n",
       "product_id                     0\n",
       "name                           0\n",
       "price                          0\n",
       "distance                       0\n",
       "surge_multiplier               0\n",
       "latitude                       0\n",
       "longitude                      0\n",
       "temperature                    0\n",
       "apparentTemperature            0\n",
       "short_summary                  0\n",
       "long_summary                   0\n",
       "precipIntensity                0\n",
       "precipProbability              0\n",
       "humidity                       0\n",
       "windSpeed                      0\n",
       "windGust                       0\n",
       "windGustTime                   0\n",
       "visibility                     0\n",
       "temperatureHigh                0\n",
       "temperatureHighTime            0\n",
       "temperatureLow                 0\n",
       "temperatureLowTime             0\n",
       "apparentTemperatureHigh        0\n",
       "apparentTemperatureHighTime    0\n",
       "apparentTemperatureLow         0\n",
       "apparentTemperatureLowTime     0\n",
       "icon                           0\n",
       "dewPoint                       0\n",
       "pressure                       0\n",
       "windBearing                    0\n",
       "cloudCover                     0\n",
       "uvIndex                        0\n",
       "visibility.1                   0\n",
       "ozone                          0\n",
       "sunriseTime                    0\n",
       "sunsetTime                     0\n",
       "moonPhase                      0\n",
       "precipIntensityMax             0\n",
       "uvIndexTime                    0\n",
       "temperatureMin                 0\n",
       "temperatureMinTime             0\n",
       "temperatureMax                 0\n",
       "temperatureMaxTime             0\n",
       "apparentTemperatureMin         0\n",
       "apparentTemperatureMinTime     0\n",
       "apparentTemperatureMax         0\n",
       "apparentTemperatureMaxTime     0\n",
       "dtype: int64"
      ]
     },
     "execution_count": 32,
     "metadata": {},
     "output_type": "execute_result"
    }
   ],
   "source": [
    "# Check for any missing values after imputing\n",
    "df.isnull().sum()"
   ]
  },
  {
   "cell_type": "code",
   "execution_count": 34,
   "metadata": {},
   "outputs": [
    {
     "name": "stdout",
     "output_type": "stream",
     "text": [
      "Percentage of missing values in 'price' after imputing: 0.00%\n"
     ]
    }
   ],
   "source": [
    "df_na = df[df['price'].isna()]\n",
    "missing_percentage_after_imputing = df['price'].isna().sum() / len(df) * 100\n",
    "print(f\"Percentage of missing values in 'price' after imputing: {missing_percentage_after_imputing:.2f}%\")"
   ]
  }
 ],
 "metadata": {
  "kernelspec": {
   "display_name": "Python 3",
   "language": "python",
   "name": "python3"
  },
  "language_info": {
   "codemirror_mode": {
    "name": "ipython",
    "version": 3
   },
   "file_extension": ".py",
   "mimetype": "text/x-python",
   "name": "python",
   "nbconvert_exporter": "python",
   "pygments_lexer": "ipython3",
   "version": "3.11.5"
  }
 },
 "nbformat": 4,
 "nbformat_minor": 2
}
